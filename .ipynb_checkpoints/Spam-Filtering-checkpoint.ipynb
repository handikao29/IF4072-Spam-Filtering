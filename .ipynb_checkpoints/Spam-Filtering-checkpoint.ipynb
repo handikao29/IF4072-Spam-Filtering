{
 "cells": [
  {
   "cell_type": "code",
   "execution_count": 4,
   "metadata": {
    "collapsed": true
   },
   "outputs": [],
   "source": [
    "from __future__ import division\n",
    "import numpy as np\n",
    "import tarfile\n",
    "import os\n",
    "import matplotlib.pyplot as plt\n",
    "import time\n",
    "import pandas as pd\n",
    "\n",
    "def import_data():\n",
    "    \n",
    "    train = pd.read_csv(\"dataset_sms_spam_v1.csv\")\n",
    "#     print(\"loading test data\")\n",
    "#     testX = csv_to_numpy_array(\"data/testX.csv\", delimiter=\",\")\n",
    "#     testY = csv_to_numpy_array(\"data/testY.csv\", delimiter=\",\")\n",
    "    return train\n",
    "\n",
    "train = import_data()"
   ]
  },
  {
   "cell_type": "code",
   "execution_count": 3,
   "metadata": {},
   "outputs": [],
   "source": [
    "from sklearn.feature_extraction.text import CountVectorizer\n",
    "classifier = ['Ham','Spam']\n",
    "count_vect = CountVectorizer()\n",
    "train_counts = count_vect.fit_transform(classifier)\n",
    "train_counts.shape\n",
    "\n"
   ]
  }
 ],
 "metadata": {
  "kernelspec": {
   "display_name": "Python 3",
   "language": "python",
   "name": "python3"
  },
  "language_info": {
   "codemirror_mode": {
    "name": "ipython",
    "version": 3
   },
   "file_extension": ".py",
   "mimetype": "text/x-python",
   "name": "python",
   "nbconvert_exporter": "python",
   "pygments_lexer": "ipython3",
   "version": "3.6.3"
  }
 },
 "nbformat": 4,
 "nbformat_minor": 2
}
