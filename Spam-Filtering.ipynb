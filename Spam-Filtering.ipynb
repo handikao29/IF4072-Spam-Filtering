{
 "cells": [
  {
   "cell_type": "code",
   "execution_count": 1,
   "metadata": {},
   "outputs": [],
   "source": [
    "from __future__ import division\n",
    "import numpy as np\n",
    "import tarfile\n",
    "import os\n",
    "import matplotlib.pyplot as plt\n",
    "import time\n",
    "import pandas as pd\n",
    "\n",
    "train = pd.read_csv(\"dataset_sms_spam_v1.csv\")\n",
    "\n",
    "\n",
    "#     print(\"loading test data\")\n",
    "#     testX = csv_to_numpy_array(\"data/testX.csv\", delimiter=\",\")\n",
    "#     testY = csv_to_numpy_array(\"data/testY.csv\", delimiter=\",\")"
   ]
  },
  {
   "cell_type": "code",
   "execution_count": 2,
   "metadata": {},
   "outputs": [
    {
     "data": {
      "text/plain": [
       "(1143, 4951)"
      ]
     },
     "execution_count": 2,
     "metadata": {},
     "output_type": "execute_result"
    }
   ],
   "source": [
    "from sklearn.feature_extraction.text import CountVectorizer, TfidfTransformer\n",
    "from sklearn.naive_bayes import MultinomialNB\n",
    "\n",
    "classifier_label = ['Ham','Spam']\n",
    "count_vect = CountVectorizer()\n",
    "train_counts = count_vect.fit_transform(train['Teks'].values)\n",
    "tf_transformer = TfidfTransformer(use_idf=False).fit(train_counts)\n",
    "train_tf = tf_transformer.transform(train_counts)\n",
    "classifier = MultinomialNB().fit(train_tf,train.label)\n",
    "\n",
    "train_tf.shape\n",
    "# classifier.fit(train_counts,classifier_label)"
   ]
  },
  {
   "cell_type": "code",
   "execution_count": 6,
   "metadata": {},
   "outputs": [
    {
     "name": "stdout",
     "output_type": "stream",
     "text": [
      "'salam sejahtera' => Ham\n"
     ]
    }
   ],
   "source": [
    "test = ['salam sejahtera']\n",
    "test_count = count_vect.transform(test)\n",
    "test_tfidf = tf_transformer.transform(test_count)\n",
    "\n",
    "test_predict = classifier.predict(test_tfidf)\n",
    "\n",
    "for doc, category in zip(test, test_predict):\n",
    "    print('%r => %s' % (doc, classifier_label[category]))"
   ]
  },
  {
   "cell_type": "code",
   "execution_count": null,
   "metadata": {},
   "outputs": [],
   "source": []
  }
 ],
 "metadata": {
  "kernelspec": {
   "display_name": "Python 3",
   "language": "python",
   "name": "python3"
  },
  "language_info": {
   "codemirror_mode": {
    "name": "ipython",
    "version": 3
   },
   "file_extension": ".py",
   "mimetype": "text/x-python",
   "name": "python",
   "nbconvert_exporter": "python",
   "pygments_lexer": "ipython3",
   "version": "3.6.5"
  }
 },
 "nbformat": 4,
 "nbformat_minor": 2
}
